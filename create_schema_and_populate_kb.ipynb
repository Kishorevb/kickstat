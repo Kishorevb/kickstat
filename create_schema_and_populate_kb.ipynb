{
 "cells": [
  {
   "cell_type": "code",
   "execution_count": 1,
   "id": "e37e503b",
   "metadata": {},
   "outputs": [],
   "source": [
    "import kuzu\n",
    "import shutil"
   ]
  },
  {
   "cell_type": "code",
   "execution_count": 2,
   "id": "1e78ffab",
   "metadata": {},
   "outputs": [],
   "source": [
    "shutil.rmtree(\"./knowledgebase\", ignore_errors=True)\n",
    "db = kuzu.Database('./knowledgebase', buffer_pool_size=1024**3)\n",
    "conn = kuzu.Connection(db)"
   ]
  },
  {
   "cell_type": "code",
   "execution_count": 3,
   "id": "3727d4f0",
   "metadata": {},
   "outputs": [
    {
     "data": {
      "text/plain": [
       "<kuzu.query_result.QueryResult at 0x279eb2ab280>"
      ]
     },
     "execution_count": 3,
     "metadata": {},
     "output_type": "execute_result"
    }
   ],
   "source": [
    "#Define KictStat Knowledge Base Schema\n",
    "conn.execute(\"CREATE NODE TABLE MatchNode(match_id INT64, match_date DATE, kick_off TIMESTAMP, home_score INT64, away_score INT64, match_status STRING, match_status_360 STRING, match_week INT64, PRIMARY KEY (match_id))\")\n",
    "conn.execute(\"CREATE NODE TABLE Competition(competition_id INT64, country_name STRING, competition_name STRING, PRIMARY KEY (competition_id))\")\n",
    "conn.execute(\"CREATE NODE TABLE Season(season_id INT64,season_name STRING, PRIMARY KEY (season_id))\")\n",
    "conn.execute(\"CREATE NODE TABLE Stadium(id INT64, name STRING, PRIMARY KEY (id))\")\n",
    "conn.execute(\"CREATE NODE TABLE Country(id INT64, name STRING, PRIMARY KEY (id))\") \n",
    "conn.execute(\"CREATE NODE TABLE Referee(id INT64, name STRING, PRIMARY KEY (id))\")\n",
    "conn.execute(\"CREATE NODE TABLE Managers(id INT64, name STRING, nickname STRING, dob DATE, PRIMARY KEY (id))\")\n",
    "conn.execute(\"CREATE NODE TABLE CompetitionStage(id INT64, name STRING, PRIMARY KEY (id))\")\n",
    "conn.execute(\"CREATE NODE TABLE Team(team_id INT64, team_name STRING, team_gender STRING, PRIMARY KEY (team_id))\") \n",
    "conn.execute(\"CREATE REL TABLE MatchHomeTeam(FROM MatchNode TO Team, HomeTeamGroup STRING)\")\n",
    "conn.execute(\"CREATE REL TABLE MatchAwayTeam(FROM MatchNode TO Team, AwayTeamGroup STRING)\")\n",
    "conn.execute(\"CREATE REL TABLE TeamCountry(FROM Team TO Country)\")\n",
    "conn.execute(\"CREATE REL TABLE TeamManagers(FROM Team TO Managers)\")\n",
    "conn.execute(\"CREATE REL TABLE MatchPartOfCompetition(FROM MatchNode TO Competition)\")\n",
    "conn.execute(\"CREATE REL TABLE MatchHeldInSeason(FROM MatchNode TO Season)\")\n",
    "conn.execute(\"CREATE REL TABLE StadiumCountry(FROM Stadium TO Country)\")\n",
    "conn.execute(\"CREATE REL TABLE RefereeCountry(FROM Referee TO Country)\")\n",
    "conn.execute(\"CREATE REL TABLE ManagerCountry(FROM Managers TO Country)\")\n",
    "conn.execute(\"CREATE REL TABLE MatchCompetitionStage(FROM MatchNode TO CompetitionStage)\") \n",
    "conn.execute(\"CREATE REL TABLE MatchHeldInStadium(FROM MatchNode TO Stadium)\")\n",
    "conn.execute(\"CREATE REL TABLE MatchReferee(FROM MatchNode TO Referee)\")\n",
    "\n",
    "conn.execute(\"CREATE NODE TABLE Player(player_id INT64, player_name STRING, player_nickname STRING, PRIMARY KEY (player_id))\")\n",
    "conn.execute(\"CREATE REL TABLE MatchPlayerPositions(FROM MatchNode TO Player, position_id INT64, position STRING, from_time STRING, to_time STRING, from_period INT64, to_period INT64, start_reason STRING, end_reason STRING)\")\n",
    "conn.execute(\"CREATE REL TABLE MatchPlayers(FROM MatchNode TO Player, jersey_number INT64)\")\n",
    "conn.execute(\"CREATE REL TABLE MatchPlayerCards(FROM MatchNode TO Player, time STRING, card_type STRING, reason STRING, period INT64)\")\n",
    "conn.execute(\"CREATE REL TABLE PlayerCountry(FROM Player TO Country)\")\n",
    "conn.execute(\"CREATE REL TABLE PlayerTeam(FROM Player TO Team)\")\n",
    "\n",
    "conn.execute(\"CREATE NODE TABLE Event(event_id STRING, index INT64, period INT64, timestamp STRING, minute INT64, second INT64, type_id INT64, type_name STRING, possession INT64, play_pattern_id INT64, play_pattern_name STRING, position_id INT64, position_name STRING, location STRING, duration FLOAT, under_pressure BOOLEAN, off_camera BOOLEAN, out BOOLEAN, related_events STRING, bad_behaviour_card_id INT64, bad_behaviour_card_name STRING, PRIMARY KEY (event_id))\")\n",
    "conn.execute(\"CREATE REL TABLE EventRelatedToPlayer(FROM Event TO Player)\")\n",
    "conn.execute(\"CREATE REL TABLE EventRelatedToTeam(FROM Event TO Team)\")\n",
    "conn.execute(\"CREATE REL TABLE EventPossessionTeam(FROM Event TO Team)\")"
   ]
  },
  {
   "cell_type": "code",
   "execution_count": 4,
   "id": "d1668c05",
   "metadata": {},
   "outputs": [
    {
     "data": {
      "text/plain": [
       "<kuzu.query_result.QueryResult at 0x279eb217160>"
      ]
     },
     "execution_count": 4,
     "metadata": {},
     "output_type": "execute_result"
    }
   ],
   "source": [
    "#Populate knowledge base\n",
    "conn.execute('COPY MatchNode FROM \"matches.csv\"')\n",
    "conn.execute('COPY Competition FROM \"competition.csv\"')\n",
    "conn.execute('COPY Season FROM \"season.csv\"')\n",
    "conn.execute('COPY Stadium FROM \"stadium.csv\"')\n",
    "conn.execute('COPY Country FROM \"country.csv\"') \n",
    "conn.execute('COPY Referee FROM \"referee.csv\"')\n",
    "conn.execute('COPY Managers FROM \"managers.csv\"')\n",
    "conn.execute('COPY CompetitionStage FROM \"competition_stage.csv\"')\n",
    "conn.execute('COPY Team FROM \"teams.csv\"')\n",
    "conn.execute('COPY TeamCountry FROM \"teams_country.csv\"') \n",
    "conn.execute('COPY TeamManagers FROM \"teams_managers.csv\"') \n",
    "conn.execute('COPY MatchHomeTeam FROM \"match_home_team.csv\"') \n",
    "conn.execute('COPY MatchAwayTeam FROM \"match_away_team.csv\"')\n",
    "conn.execute('COPY MatchPartOfCompetition FROM \"match_part_of_competition.csv\"')\n",
    "conn.execute('COPY MatchHeldInSeason FROM \"match_held_in_season.csv\"')\n",
    "conn.execute('COPY MatchHeldInStadium FROM \"match_held_in_stadium.csv\"')\n",
    "conn.execute('COPY StadiumCountry FROM \"stadium_country.csv\"')\n",
    "conn.execute('COPY RefereeCountry FROM \"referee_country.csv\"')\n",
    "conn.execute('COPY ManagerCountry FROM \"manager_country.csv\"')\n",
    "conn.execute('COPY MatchCompetitionStage FROM \"match_competition_stage.csv\"') \n",
    "conn.execute('COPY MatchReferee FROM \"match_referee.csv\"')\n",
    "\n",
    "conn.execute('COPY Player FROM \"player.csv\"')\n",
    "conn.execute('COPY MatchPlayerPositions FROM \"match_player_positions.csv\"')\n",
    "conn.execute('COPY MatchPlayers FROM \"match_player.csv\"')\n",
    "conn.execute('COPY MatchPlayerCards FROM \"match_player_cards.csv\"')  \n",
    "conn.execute('COPY PlayerCountry FROM \"player_country.csv\"')\n",
    "conn.execute('COPY PlayerTeam FROM \"player_team.csv\"')\n",
    "\n",
    "conn.execute('COPY Event FROM \"event.csv\"')\n",
    "conn.execute('COPY EventRelatedToPlayer FROM \"event_related_to_player.csv\"')\n",
    "conn.execute('COPY EventRelatedToTeam FROM \"event_relates_to_team.csv\"')\n",
    "conn.execute('COPY EventPossessionTeam FROM \"possession_team.csv\"')"
   ]
  },
  {
   "cell_type": "code",
   "execution_count": 5,
   "id": "da516ba5",
   "metadata": {},
   "outputs": [
    {
     "name": "stdout",
     "output_type": "stream",
     "text": [
      "[11, 'Spain', 'La Liga']\n",
      "[116, 'North and Central America', 'North American League']\n",
      "[12, 'Italy', 'Serie A']\n",
      "[1238, 'India', 'Indian Super league']\n",
      "[1470, 'International', 'FIFA U20 World Cup']\n",
      "[16, 'Europe', 'Champions League']\n",
      "[2, 'England', 'Premier League']\n",
      "[35, 'Europe', 'UEFA Europa League']\n",
      "[37, 'England', \"FA Women's Super League\"]\n",
      "[43, 'International', 'FIFA World Cup']\n",
      "[49, 'United States of America', 'NWSL']\n",
      "[53, 'Europe', \"UEFA Women's Euro\"]\n",
      "[55, 'Europe', 'UEFA Euro']\n",
      "[7, 'France', 'Ligue 1']\n",
      "[72, 'International', \"Women's World Cup\"]\n",
      "[81, 'Argentina', 'Liga Profesional']\n",
      "[87, 'Spain', 'Copa del Rey']\n",
      "[9, 'Germany', '1. Bundesliga']\n"
     ]
    }
   ],
   "source": [
    "#Execute a simple query:\n",
    "results = conn.execute('MATCH (u:Competition) RETURN u.competition_id, u.country_name, u.competition_name;')\n",
    "while results.has_next():\n",
    "    print(results.get_next())"
   ]
  },
  {
   "cell_type": "code",
   "execution_count": null,
   "id": "32a3e391",
   "metadata": {},
   "outputs": [],
   "source": []
  }
 ],
 "metadata": {
  "kernelspec": {
   "display_name": "Python 3 (ipykernel)",
   "language": "python",
   "name": "python3"
  },
  "language_info": {
   "codemirror_mode": {
    "name": "ipython",
    "version": 3
   },
   "file_extension": ".py",
   "mimetype": "text/x-python",
   "name": "python",
   "nbconvert_exporter": "python",
   "pygments_lexer": "ipython3",
   "version": "3.9.13"
  }
 },
 "nbformat": 4,
 "nbformat_minor": 5
}
