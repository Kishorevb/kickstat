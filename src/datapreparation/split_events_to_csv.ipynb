{
 "cells": [
  {
   "cell_type": "code",
   "execution_count": 1,
   "id": "e9187f8c",
   "metadata": {},
   "outputs": [],
   "source": [
    "import json\n",
    "import csv\n",
    "import os\n",
    "import pandas as pd\n",
    "from flatten_json import flatten\n",
    "from pathlib import Path"
   ]
  },
  {
   "cell_type": "code",
   "execution_count": 2,
   "id": "37ab00c5",
   "metadata": {},
   "outputs": [],
   "source": [
    "rootdir = 'C:\\\\Users\\\\krish.vanapalli\\\\Documents\\\\Work\\\\KickStat\\\\open-data-master\\\\data\\\\events\\\\SubSet1\\\\'"
   ]
  },
  {
   "cell_type": "code",
   "execution_count": 3,
   "id": "c3e54e7b",
   "metadata": {},
   "outputs": [],
   "source": [
    "dataframes_supported_entities = {}\n",
    "dataframes_supported_entities[\"event\"] = pd.DataFrame()\n",
    "dataframes_supported_entities[\"event_relates_to_team\"] = pd.DataFrame()\n",
    "dataframes_supported_entities[\"possession_team\"] = pd.DataFrame()\n",
    "dataframes_supported_entities[\"event_related_to_player\"] = pd.DataFrame()\n",
    "dataframes_supported_entities[\"match_events\"] = pd.DataFrame()"
   ]
  },
  {
   "cell_type": "code",
   "execution_count": 4,
   "id": "153ca0c1",
   "metadata": {},
   "outputs": [
    {
     "name": "stdout",
     "output_type": "stream",
     "text": [
      "7298\n"
     ]
    },
    {
     "ename": "NameError",
     "evalue": "name 'event_df' is not defined",
     "output_type": "error",
     "traceback": [
      "\u001b[1;31m---------------------------------------------------------------------------\u001b[0m",
      "\u001b[1;31mNameError\u001b[0m                                 Traceback (most recent call last)",
      "\u001b[1;32m~\\AppData\\Local\\Temp\\ipykernel_18724\\1581384140.py\u001b[0m in \u001b[0;36m<module>\u001b[1;34m\u001b[0m\n\u001b[0;32m     21\u001b[0m \u001b[1;33m\u001b[0m\u001b[0m\n\u001b[0;32m     22\u001b[0m \u001b[1;33m\u001b[0m\u001b[0m\n\u001b[1;32m---> 23\u001b[1;33m             \u001b[0mdf_dictionary_tmp\u001b[0m \u001b[1;33m=\u001b[0m \u001b[0mpd\u001b[0m\u001b[1;33m.\u001b[0m\u001b[0mDataFrame\u001b[0m\u001b[1;33m(\u001b[0m\u001b[1;33m[\u001b[0m\u001b[0mevent_df\u001b[0m\u001b[1;33m]\u001b[0m\u001b[1;33m)\u001b[0m\u001b[1;33m\u001b[0m\u001b[1;33m\u001b[0m\u001b[0m\n\u001b[0m\u001b[0;32m     24\u001b[0m             \u001b[0mdataframes_supported_entities\u001b[0m\u001b[1;33m[\u001b[0m\u001b[1;34m\"event\"\u001b[0m\u001b[1;33m]\u001b[0m \u001b[1;33m=\u001b[0m \u001b[0mpd\u001b[0m\u001b[1;33m.\u001b[0m\u001b[0mconcat\u001b[0m\u001b[1;33m(\u001b[0m\u001b[1;33m[\u001b[0m\u001b[0mdataframes_supported_entities\u001b[0m\u001b[1;33m[\u001b[0m\u001b[1;34m\"event\"\u001b[0m\u001b[1;33m]\u001b[0m\u001b[1;33m,\u001b[0m \u001b[0mdf_dictionary_tmp\u001b[0m\u001b[1;33m]\u001b[0m\u001b[1;33m,\u001b[0m \u001b[0mignore_index\u001b[0m\u001b[1;33m=\u001b[0m\u001b[1;32mTrue\u001b[0m\u001b[1;33m)\u001b[0m\u001b[1;33m\u001b[0m\u001b[1;33m\u001b[0m\u001b[0m\n\u001b[0;32m     25\u001b[0m \u001b[1;33m\u001b[0m\u001b[0m\n",
      "\u001b[1;31mNameError\u001b[0m: name 'event_df' is not defined"
     ]
    }
   ],
   "source": [
    "for subdir, dirs, files in os.walk(rootdir):\n",
    "    for file in files:\n",
    "        match_id = Path(file).stem\n",
    "        print(match_id)\n",
    "        with open(os.path.join(subdir, file), encoding='utf-8') as f:\n",
    "            events_list = json.load(f)\n",
    "        for event in events_list:\n",
    "            event_id = event[\"id\"]\n",
    "            index = event[\"index\"]\n",
    "            period = event[\"period\"]\n",
    "            timestamp = event[\"timestamp\"]\n",
    "            minute = event[\"minute\"]\n",
    "            second = event[\"second\"]\n",
    "            type_id = event[\"type\"][\"id\"]\n",
    "            type_name = event[\"type\"][\"name\"]\n",
    "            possession = event[\"possession\"]\n",
    "            play_pattern_id = event[\"play_pattern\"][\"id\"]\n",
    "            play_pattern_name = event[\"play_pattern\"][\"name\"]\n",
    "            possession_team = event[\"possession_team\"]\n",
    "            team = event[\"team\"]            \n",
    "            \n",
    "            \n",
    "            if \"player\" in event:\n",
    "                player = event[\"player\"]\n",
    "                event_related_to_player_df = {\"event_id\": event_id, \"player_id\": player[\"id\"]}\n",
    "                df_dictionary_tmp = pd.DataFrame([event_related_to_player_df])\n",
    "                dataframes_supported_entities[\"event_related_to_player\"] = pd.concat([dataframes_supported_entities[\"event_related_to_player\"], df_dictionary_tmp], ignore_index=True)                                                                     \n",
    "                \n",
    "            if \"position\" in event:\n",
    "                position = event[\"position\"]\n",
    "                position_id = position[\"id\"]\n",
    "                position_name = position[\"name\"]\n",
    "            else:\n",
    "                position_id = None\n",
    "                position_name = None\n",
    "                \n",
    "                \n",
    "            if \"location\" in event:\n",
    "                location = ','.join(list(map(str, event[\"location\"])))\n",
    "            else:\n",
    "                location = None\n",
    "                \n",
    "            if \"duration\" in event:\n",
    "                duration = event[\"duration\"]\n",
    "            else:\n",
    "                duration = None\n",
    "                \n",
    "            if \"under_pressure\" in event:\n",
    "                under_pressure = event[\"under_pressure\"]\n",
    "            else:\n",
    "                under_pressure = None                \n",
    "                \n",
    "            if \"off_camera\" in event:\n",
    "                off_camera = event[\"off_camera\"]\n",
    "            else:\n",
    "                off_camera = None\n",
    "                \n",
    "            if \"out\" in event:\n",
    "                out = event[\"out\"]\n",
    "            else:\n",
    "                out = None\n",
    "                \n",
    "            if \"related_events\" in event:\n",
    "                related_events = ','.join(event[\"related_events\"])\n",
    "            else:\n",
    "                related_events = None\n",
    "                \n",
    "            if  \"bad_behaviour\" in event:\n",
    "                bad_behaviour_card_id = event[\"bad_behaviour\"][\"card\"][\"id\"]\n",
    "                bad_behaviour_card_name = event[\"bad_behaviour\"][\"card\"][\"name\"]\n",
    "            else:\n",
    "                bad_behaviour_card_id = None\n",
    "                bad_behaviour_card_name = None\n",
    "                \n",
    "                \n",
    "            event_df = {\"event_id\": event_id, \"index\" : index, \"period\" : period, \"timestamp\" : timestamp, \"minute\" : minute, \"second\" : second, \"type_id\" : type_id, \"type_name\": type_name, \\\n",
    "                       \"possession\" : possession, \"play_pattern_id\" : play_pattern_id, \"play_pattern_name\" : play_pattern_name, \\\n",
    "                       \"position_id\": position_id, \"position_name\": position_name, \"location\": location, \"duration\": duration, \"under_pressure\": under_pressure, \\\n",
    "                       \"off_camera\": off_camera, \"out\": out, \"related_events\": related_events, \"bad_behaviour_card_id\": bad_behaviour_card_id, \"bad_behaviour_card_name\": bad_behaviour_card_name }\n",
    "            event_relates_to_team_df = {\"evnet_id\": event_id, \"team_id\": team[\"id\"]}\n",
    "            possession_team_df = {\"evnet_id\": event_id, \"team_id\": possession_team[\"id\"]} \n",
    "            \n",
    "            match_events_df = {\"match_id\": match_id, \"event_id\": event_id}\n",
    "            df_dictionary_tmp = pd.DataFrame([match_events_df])\n",
    "            dataframes_supported_entities[\"match_events\"] = pd.concat([dataframes_supported_entities[\"match_events\"], df_dictionary_tmp], ignore_index=True)                                                                     \n",
    "            \n",
    "            df_dictionary_tmp = pd.DataFrame([event_df])\n",
    "            dataframes_supported_entities[\"event\"] = pd.concat([dataframes_supported_entities[\"event\"], df_dictionary_tmp], ignore_index=True)                                                                     \n",
    "            \n",
    "            df_dictionary_tmp = pd.DataFrame([event_relates_to_team_df])\n",
    "            dataframes_supported_entities[\"event_relates_to_team\"] = pd.concat([dataframes_supported_entities[\"event_relates_to_team\"], df_dictionary_tmp], ignore_index=True)                                                                     \n",
    "            \n",
    "            df_dictionary_tmp = pd.DataFrame([possession_team_df])\n",
    "            dataframes_supported_entities[\"possession_team\"] = pd.concat([dataframes_supported_entities[\"possession_team\"], df_dictionary_tmp], ignore_index=True)                                                                     \n",
    "            "
   ]
  },
  {
   "cell_type": "code",
   "execution_count": null,
   "id": "445763a1",
   "metadata": {},
   "outputs": [],
   "source": [
    "for key, value_df in dataframes_supported_entities.items():\n",
    "    value_df = value_df.loc[value_df.astype(str).drop_duplicates().index]\n",
    "    output_file_name = f\"C:\\\\Users\\\\krish.vanapalli\\\\Documents\\\\Work\\\\KickStat\\\\KBDataFiles\\\\Events\\\\Test\\\\SubSet2\\\\{key}.csv\"\n",
    "    value_df.to_csv(output_file_name, sep=',', encoding='utf-8', index=False, header=True)      "
   ]
  }
 ],
 "metadata": {
  "kernelspec": {
   "display_name": "Python 3 (ipykernel)",
   "language": "python",
   "name": "python3"
  },
  "language_info": {
   "codemirror_mode": {
    "name": "ipython",
    "version": 3
   },
   "file_extension": ".py",
   "mimetype": "text/x-python",
   "name": "python",
   "nbconvert_exporter": "python",
   "pygments_lexer": "ipython3",
   "version": "3.9.13"
  }
 },
 "nbformat": 4,
 "nbformat_minor": 5
}
