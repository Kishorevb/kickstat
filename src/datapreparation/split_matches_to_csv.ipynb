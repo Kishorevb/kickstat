{
 "cells": [
  {
   "cell_type": "code",
   "execution_count": 29,
   "id": "e9187f8c",
   "metadata": {},
   "outputs": [],
   "source": [
    "import json\n",
    "import csv\n",
    "import os\n",
    "import pandas as pd"
   ]
  },
  {
   "cell_type": "code",
   "execution_count": 30,
   "id": "8f1341aa",
   "metadata": {},
   "outputs": [
    {
     "name": "stdout",
     "output_type": "stream",
     "text": [
      "Requirement already satisfied: flatten_json in c:\\users\\krish.vanapalli\\anaconda3\\lib\\site-packages (0.1.14)\n",
      "Requirement already satisfied: six in c:\\users\\krish.vanapalli\\anaconda3\\lib\\site-packages (from flatten_json) (1.16.0)\n"
     ]
    }
   ],
   "source": [
    "!pip install flatten_json"
   ]
  },
  {
   "cell_type": "code",
   "execution_count": 31,
   "id": "66fa6205",
   "metadata": {},
   "outputs": [],
   "source": [
    "from flatten_json import flatten"
   ]
  },
  {
   "cell_type": "code",
   "execution_count": 32,
   "id": "37ab00c5",
   "metadata": {},
   "outputs": [],
   "source": [
    "rootdir = 'C:\\\\Users\\\\krish.vanapalli\\\\Documents\\\\Work\\\\KickStat\\\\open-data-master\\\\data\\\\matches\\\\'"
   ]
  },
  {
   "cell_type": "code",
   "execution_count": 33,
   "id": "c3e54e7b",
   "metadata": {},
   "outputs": [],
   "source": [
    "matches_output = pd.DataFrame()\n",
    "dataframes_supported_entities = {}\n",
    "dataframes_supported_entities[\"competition\"] = pd.DataFrame()\n",
    "dataframes_supported_entities[\"match_part_of_competition\"] = pd.DataFrame()\n",
    "dataframes_supported_entities[\"season\"] = pd.DataFrame()\n",
    "dataframes_supported_entities[\"match_held_in_season\"] = pd.DataFrame()\n",
    "dataframes_supported_entities[\"home_team\"] = pd.DataFrame()\n",
    "dataframes_supported_entities[\"match_home_team\"] = pd.DataFrame()\n",
    "dataframes_supported_entities[\"country\"] = pd.DataFrame()\n",
    "dataframes_supported_entities[\"home_team_country\"] = pd.DataFrame()\n",
    "dataframes_supported_entities[\"managers\"] = pd.DataFrame()\n",
    "dataframes_supported_entities[\"manager_country\"] = pd.DataFrame()\n",
    "dataframes_supported_entities[\"home_team_managers\"] = pd.DataFrame()\n",
    "dataframes_supported_entities[\"away_team\"] = pd.DataFrame()\n",
    "dataframes_supported_entities[\"away_team_country\"] = pd.DataFrame()\n",
    "dataframes_supported_entities[\"away_team_managers\"] = pd.DataFrame()\n",
    "dataframes_supported_entities[\"match_away_team\"] = pd.DataFrame()\n",
    "dataframes_supported_entities[\"metadata\"] = pd.DataFrame()\n",
    "dataframes_supported_entities[\"match_metadata\"] = pd.DataFrame()\n",
    "dataframes_supported_entities[\"competition_stage\"] = pd.DataFrame()\n",
    "dataframes_supported_entities[\"match_competition_stage\"] = pd.DataFrame()\n",
    "dataframes_supported_entities[\"stadium\"] = pd.DataFrame()\n",
    "dataframes_supported_entities[\"stadium_country\"] = pd.DataFrame()\n",
    "dataframes_supported_entities[\"match_held_in_stadium\"] = pd.DataFrame()\n",
    "dataframes_supported_entities[\"referee\"] = pd.DataFrame()\n",
    "dataframes_supported_entities[\"referee_country\"] = pd.DataFrame()\n",
    "dataframes_supported_entities[\"match_referee\"] = pd.DataFrame()"
   ]
  },
  {
   "cell_type": "code",
   "execution_count": 34,
   "id": "171e74f3",
   "metadata": {},
   "outputs": [],
   "source": [
    "def flatten_json(linking_key, linking_key_value, root_key, dictionary, grandparent_key):\n",
    "    for key, value in list(dictionary.items()):\n",
    "        if isinstance(value, dict):\n",
    "            internal_linking_key = [s for s in list(dictionary.keys()) if \"id\" in s][0]\n",
    "            flatten_json(internal_linking_key, dictionary[internal_linking_key], key, dictionary.pop(key), root_key)\n",
    "            #print([s for s in list(dictionary.keys()) if \"id\" in s][0])\n",
    "        elif isinstance(value, list):\n",
    "            for dict_item in value:\n",
    "                linking_key = [s for s in list(dictionary.keys()) if \"id\" in s][0]\n",
    "                #print(linking_key, dictionary[linking_key], key, dict_item, root_key)\n",
    "                flatten_json(linking_key, dictionary[linking_key], key, dict_item, root_key)                \n",
    "            dictionary.pop(key)\n",
    "                \n",
    "    df_dictionary = pd.DataFrame([dictionary])\n",
    "    dataframes_supported_entities[root_key] = pd.concat([dataframes_supported_entities[root_key], df_dictionary], ignore_index=True)\n",
    "    #print(\"Root key is: \" + root_key + \" and linking key is: \" + linking_key + \" and grandparent key is: \" + grandparent_key)\n",
    "    if(root_key == \"competition\"):\n",
    "        match_part_of_competition = {\"match_id\": linking_key_value, \"competition_id\": dictionary[\"competition_id\"]}\n",
    "        df_dictionary_tmp = pd.DataFrame([match_part_of_competition])\n",
    "        dataframes_supported_entities[\"match_part_of_competition\"] = pd.concat([dataframes_supported_entities[\"match_part_of_competition\"], df_dictionary_tmp], ignore_index=True)\n",
    "    elif(root_key == \"season\"):\n",
    "        match_held_in_season = {\"match_id\": linking_key_value, \"season_id\": dictionary[\"season_id\"]}\n",
    "        df_dictionary_tmp = pd.DataFrame([match_held_in_season])\n",
    "        dataframes_supported_entities[\"match_held_in_season\"] = pd.concat([dataframes_supported_entities[\"match_held_in_season\"], df_dictionary_tmp], ignore_index=True)\n",
    "    elif(root_key == \"home_team\"):\n",
    "        match_home_team = {\"match_id\": linking_key_value, \"home_team_id\": dictionary[\"home_team_id\"], \"home_team_group\": dictionary[\"home_team_group\"]}\n",
    "        df_dictionary_tmp = pd.DataFrame([match_home_team])\n",
    "        dataframes_supported_entities[\"match_home_team\"] = pd.concat([dataframes_supported_entities[\"match_home_team\"], df_dictionary_tmp], ignore_index=True)\n",
    "    elif(root_key == \"away_team\"):\n",
    "        match_away_team = {\"match_id\": linking_key_value, \"away_team_id\": dictionary[\"away_team_id\"], \"away_team_group\": dictionary[\"away_team_group\"]}\n",
    "        df_dictionary_tmp = pd.DataFrame([match_away_team])\n",
    "        dataframes_supported_entities[\"match_away_team\"] = pd.concat([dataframes_supported_entities[\"match_away_team\"], df_dictionary_tmp], ignore_index=True)\n",
    "    elif(root_key == \"competition_stage\"):\n",
    "        match_competition_stage = {\"match_id\": linking_key_value, \"competition_stage_id\": dictionary[\"id\"]}\n",
    "        df_dictionary_tmp = pd.DataFrame([match_competition_stage])\n",
    "        dataframes_supported_entities[\"match_competition_stage\"] = pd.concat([dataframes_supported_entities[\"match_competition_stage\"], df_dictionary_tmp], ignore_index=True)\n",
    "    elif(root_key == \"stadium\"):\n",
    "        match_held_in_stadium = {\"match_id\": linking_key_value, \"stadium_id\": dictionary[\"id\"]}\n",
    "        df_dictionary_tmp = pd.DataFrame([match_held_in_stadium])\n",
    "        dataframes_supported_entities[\"match_held_in_stadium\"] = pd.concat([dataframes_supported_entities[\"match_held_in_stadium\"], df_dictionary_tmp], ignore_index=True)\n",
    "    elif(root_key == \"referee\"):\n",
    "        match_referee = {\"match_id\": linking_key_value, \"referee_id\": dictionary[\"id\"]}\n",
    "        df_dictionary_tmp = pd.DataFrame([match_referee])\n",
    "        dataframes_supported_entities[\"match_referee\"] = pd.concat([dataframes_supported_entities[\"match_referee\"], df_dictionary_tmp], ignore_index=True)\n",
    "    elif(root_key == \"country\" and linking_key == \"home_team_id\"):\n",
    "        home_team_country = {linking_key: linking_key_value, \"home_team_country_id\": dictionary[\"id\"]}\n",
    "        df_dictionary_tmp = pd.DataFrame([home_team_country])\n",
    "        dataframes_supported_entities[\"home_team_country\"] = pd.concat([dataframes_supported_entities[\"home_team_country\"], df_dictionary_tmp], ignore_index=True)\n",
    "    elif(root_key == \"country\" and linking_key == \"away_team_id\"):\n",
    "        away_team_country = {linking_key: linking_key_value, \"away_team_country_id\": dictionary[\"id\"]}\n",
    "        df_dictionary_tmp = pd.DataFrame([away_team_country])\n",
    "        dataframes_supported_entities[\"away_team_country\"] = pd.concat([dataframes_supported_entities[\"away_team_country\"], df_dictionary_tmp], ignore_index=True)\n",
    "    elif(root_key == \"managers\" and linking_key == \"home_team_id\"):\n",
    "        home_team_managers = {linking_key: linking_key_value, \"home_team_manager_id\": dictionary[\"id\"]}\n",
    "        df_dictionary_tmp = pd.DataFrame([home_team_managers])\n",
    "        dataframes_supported_entities[\"home_team_managers\"] = pd.concat([dataframes_supported_entities[\"home_team_managers\"], df_dictionary_tmp], ignore_index=True)\n",
    "    elif(root_key == \"managers\" and linking_key == \"away_team_id\"):\n",
    "        away_team_managers = {linking_key: linking_key_value, \"away_team_manager_id\": dictionary[\"id\"]}\n",
    "        df_dictionary_tmp = pd.DataFrame([away_team_managers])\n",
    "        dataframes_supported_entities[\"away_team_managers\"] = pd.concat([dataframes_supported_entities[\"away_team_managers\"], df_dictionary_tmp], ignore_index=True)\n",
    "    elif(root_key == \"country\" and linking_key == \"id\" and grandparent_key == \"managers\"):\n",
    "        manager_country = {linking_key: linking_key_value, \"manager_country_id\": dictionary[\"id\"]}\n",
    "        df_dictionary_tmp = pd.DataFrame([manager_country])\n",
    "        dataframes_supported_entities[\"manager_country\"] = pd.concat([dataframes_supported_entities[\"manager_country\"], df_dictionary_tmp], ignore_index=True)\n",
    "    elif(root_key == \"country\" and linking_key == \"id\" and grandparent_key == \"stadium\"):\n",
    "        stadium_country = {linking_key: linking_key_value, \"stadium_country_id\": dictionary[\"id\"]}\n",
    "        df_dictionary_tmp = pd.DataFrame([stadium_country])\n",
    "        dataframes_supported_entities[\"stadium_country\"] = pd.concat([dataframes_supported_entities[\"stadium_country\"], df_dictionary_tmp], ignore_index=True)\n",
    "    elif(root_key == \"country\" and linking_key == \"id\" and grandparent_key == \"referee\"):\n",
    "        referee_country = {linking_key: linking_key_value, \"referee_country_id\": dictionary[\"id\"]}\n",
    "        df_dictionary_tmp = pd.DataFrame([referee_country])\n",
    "        dataframes_supported_entities[\"referee_country\"] = pd.concat([dataframes_supported_entities[\"referee_country\"], df_dictionary_tmp], ignore_index=True)   \n",
    "    elif(root_key == \"metadata\"):\n",
    "        match_metadata = {\"match_id\": linking_key_value, \"data_version\": dictionary.get(\"data_version\", None)}\n",
    "        df_dictionary_tmp = pd.DataFrame([match_metadata])\n",
    "        dataframes_supported_entities[\"match_metadata\"] = pd.concat([dataframes_supported_entities[\"match_metadata\"], df_dictionary_tmp], ignore_index=True)"
   ]
  },
  {
   "cell_type": "code",
   "execution_count": 35,
   "id": "153ca0c1",
   "metadata": {},
   "outputs": [
    {
     "name": "stdout",
     "output_type": "stream",
     "text": [
      "C:\\Users\\krish.vanapalli\\Documents\\Work\\KickStat\\open-data-master\\data\\matches\\11\\1.json\n",
      "C:\\Users\\krish.vanapalli\\Documents\\Work\\KickStat\\open-data-master\\data\\matches\\11\\2.json\n",
      "C:\\Users\\krish.vanapalli\\Documents\\Work\\KickStat\\open-data-master\\data\\matches\\11\\21.json\n",
      "C:\\Users\\krish.vanapalli\\Documents\\Work\\KickStat\\open-data-master\\data\\matches\\11\\22.json\n",
      "C:\\Users\\krish.vanapalli\\Documents\\Work\\KickStat\\open-data-master\\data\\matches\\11\\23.json\n",
      "C:\\Users\\krish.vanapalli\\Documents\\Work\\KickStat\\open-data-master\\data\\matches\\11\\24.json\n",
      "C:\\Users\\krish.vanapalli\\Documents\\Work\\KickStat\\open-data-master\\data\\matches\\11\\25.json\n",
      "C:\\Users\\krish.vanapalli\\Documents\\Work\\KickStat\\open-data-master\\data\\matches\\11\\26.json\n",
      "C:\\Users\\krish.vanapalli\\Documents\\Work\\KickStat\\open-data-master\\data\\matches\\11\\27.json\n",
      "C:\\Users\\krish.vanapalli\\Documents\\Work\\KickStat\\open-data-master\\data\\matches\\11\\278.json\n",
      "C:\\Users\\krish.vanapalli\\Documents\\Work\\KickStat\\open-data-master\\data\\matches\\11\\37.json\n",
      "C:\\Users\\krish.vanapalli\\Documents\\Work\\KickStat\\open-data-master\\data\\matches\\11\\38.json\n",
      "C:\\Users\\krish.vanapalli\\Documents\\Work\\KickStat\\open-data-master\\data\\matches\\11\\39.json\n",
      "C:\\Users\\krish.vanapalli\\Documents\\Work\\KickStat\\open-data-master\\data\\matches\\11\\4.json\n",
      "C:\\Users\\krish.vanapalli\\Documents\\Work\\KickStat\\open-data-master\\data\\matches\\11\\40.json\n",
      "C:\\Users\\krish.vanapalli\\Documents\\Work\\KickStat\\open-data-master\\data\\matches\\11\\41.json\n",
      "C:\\Users\\krish.vanapalli\\Documents\\Work\\KickStat\\open-data-master\\data\\matches\\11\\42.json\n",
      "C:\\Users\\krish.vanapalli\\Documents\\Work\\KickStat\\open-data-master\\data\\matches\\11\\90.json\n",
      "C:\\Users\\krish.vanapalli\\Documents\\Work\\KickStat\\open-data-master\\data\\matches\\116\\68.json\n",
      "C:\\Users\\krish.vanapalli\\Documents\\Work\\KickStat\\open-data-master\\data\\matches\\12\\27.json\n",
      "C:\\Users\\krish.vanapalli\\Documents\\Work\\KickStat\\open-data-master\\data\\matches\\12\\86.json\n",
      "C:\\Users\\krish.vanapalli\\Documents\\Work\\KickStat\\open-data-master\\data\\matches\\1238\\108.json\n",
      "C:\\Users\\krish.vanapalli\\Documents\\Work\\KickStat\\open-data-master\\data\\matches\\1470\\274.json\n",
      "C:\\Users\\krish.vanapalli\\Documents\\Work\\KickStat\\open-data-master\\data\\matches\\16\\1.json\n",
      "C:\\Users\\krish.vanapalli\\Documents\\Work\\KickStat\\open-data-master\\data\\matches\\16\\2.json\n",
      "C:\\Users\\krish.vanapalli\\Documents\\Work\\KickStat\\open-data-master\\data\\matches\\16\\21.json\n",
      "C:\\Users\\krish.vanapalli\\Documents\\Work\\KickStat\\open-data-master\\data\\matches\\16\\22.json\n",
      "C:\\Users\\krish.vanapalli\\Documents\\Work\\KickStat\\open-data-master\\data\\matches\\16\\23.json\n",
      "C:\\Users\\krish.vanapalli\\Documents\\Work\\KickStat\\open-data-master\\data\\matches\\16\\24.json\n",
      "C:\\Users\\krish.vanapalli\\Documents\\Work\\KickStat\\open-data-master\\data\\matches\\16\\25.json\n",
      "C:\\Users\\krish.vanapalli\\Documents\\Work\\KickStat\\open-data-master\\data\\matches\\16\\26.json\n",
      "C:\\Users\\krish.vanapalli\\Documents\\Work\\KickStat\\open-data-master\\data\\matches\\16\\27.json\n",
      "C:\\Users\\krish.vanapalli\\Documents\\Work\\KickStat\\open-data-master\\data\\matches\\16\\276.json\n",
      "C:\\Users\\krish.vanapalli\\Documents\\Work\\KickStat\\open-data-master\\data\\matches\\16\\277.json\n",
      "C:\\Users\\krish.vanapalli\\Documents\\Work\\KickStat\\open-data-master\\data\\matches\\16\\37.json\n",
      "C:\\Users\\krish.vanapalli\\Documents\\Work\\KickStat\\open-data-master\\data\\matches\\16\\39.json\n",
      "C:\\Users\\krish.vanapalli\\Documents\\Work\\KickStat\\open-data-master\\data\\matches\\16\\4.json\n",
      "C:\\Users\\krish.vanapalli\\Documents\\Work\\KickStat\\open-data-master\\data\\matches\\16\\41.json\n",
      "C:\\Users\\krish.vanapalli\\Documents\\Work\\KickStat\\open-data-master\\data\\matches\\16\\44.json\n",
      "C:\\Users\\krish.vanapalli\\Documents\\Work\\KickStat\\open-data-master\\data\\matches\\16\\71.json\n",
      "C:\\Users\\krish.vanapalli\\Documents\\Work\\KickStat\\open-data-master\\data\\matches\\16\\76.json\n",
      "C:\\Users\\krish.vanapalli\\Documents\\Work\\KickStat\\open-data-master\\data\\matches\\2\\27.json\n",
      "C:\\Users\\krish.vanapalli\\Documents\\Work\\KickStat\\open-data-master\\data\\matches\\2\\44.json\n",
      "C:\\Users\\krish.vanapalli\\Documents\\Work\\KickStat\\open-data-master\\data\\matches\\35\\75.json\n",
      "C:\\Users\\krish.vanapalli\\Documents\\Work\\KickStat\\open-data-master\\data\\matches\\37\\4.json\n",
      "C:\\Users\\krish.vanapalli\\Documents\\Work\\KickStat\\open-data-master\\data\\matches\\37\\42.json\n",
      "C:\\Users\\krish.vanapalli\\Documents\\Work\\KickStat\\open-data-master\\data\\matches\\37\\90.json\n",
      "C:\\Users\\krish.vanapalli\\Documents\\Work\\KickStat\\open-data-master\\data\\matches\\43\\106.json\n",
      "C:\\Users\\krish.vanapalli\\Documents\\Work\\KickStat\\open-data-master\\data\\matches\\43\\269.json\n",
      "C:\\Users\\krish.vanapalli\\Documents\\Work\\KickStat\\open-data-master\\data\\matches\\43\\270.json\n",
      "C:\\Users\\krish.vanapalli\\Documents\\Work\\KickStat\\open-data-master\\data\\matches\\43\\272.json\n",
      "C:\\Users\\krish.vanapalli\\Documents\\Work\\KickStat\\open-data-master\\data\\matches\\43\\3.json\n",
      "C:\\Users\\krish.vanapalli\\Documents\\Work\\KickStat\\open-data-master\\data\\matches\\43\\51.json\n",
      "C:\\Users\\krish.vanapalli\\Documents\\Work\\KickStat\\open-data-master\\data\\matches\\43\\54.json\n",
      "C:\\Users\\krish.vanapalli\\Documents\\Work\\KickStat\\open-data-master\\data\\matches\\43\\55.json\n",
      "C:\\Users\\krish.vanapalli\\Documents\\Work\\KickStat\\open-data-master\\data\\matches\\49\\3.json\n",
      "C:\\Users\\krish.vanapalli\\Documents\\Work\\KickStat\\open-data-master\\data\\matches\\53\\106.json\n",
      "C:\\Users\\krish.vanapalli\\Documents\\Work\\KickStat\\open-data-master\\data\\matches\\55\\43.json\n",
      "C:\\Users\\krish.vanapalli\\Documents\\Work\\KickStat\\open-data-master\\data\\matches\\7\\27.json\n",
      "C:\\Users\\krish.vanapalli\\Documents\\Work\\KickStat\\open-data-master\\data\\matches\\72\\107.json\n",
      "C:\\Users\\krish.vanapalli\\Documents\\Work\\KickStat\\open-data-master\\data\\matches\\72\\30.json\n",
      "C:\\Users\\krish.vanapalli\\Documents\\Work\\KickStat\\open-data-master\\data\\matches\\81\\275.json\n",
      "C:\\Users\\krish.vanapalli\\Documents\\Work\\KickStat\\open-data-master\\data\\matches\\81\\48.json\n",
      "C:\\Users\\krish.vanapalli\\Documents\\Work\\KickStat\\open-data-master\\data\\matches\\87\\268.json\n",
      "C:\\Users\\krish.vanapalli\\Documents\\Work\\KickStat\\open-data-master\\data\\matches\\87\\279.json\n",
      "C:\\Users\\krish.vanapalli\\Documents\\Work\\KickStat\\open-data-master\\data\\matches\\87\\84.json\n",
      "C:\\Users\\krish.vanapalli\\Documents\\Work\\KickStat\\open-data-master\\data\\matches\\9\\27.json\n"
     ]
    }
   ],
   "source": [
    "for subdir, dirs, files in os.walk(rootdir):\n",
    "    for file in files:\n",
    "        print(os.path.join(subdir, file))\n",
    "        with open(os.path.join(subdir, file), encoding='utf-8') as f:\n",
    "            matches_list = json.load(f)\n",
    "        for match in matches_list:\n",
    "            for key, value in list(match.items()):\n",
    "                if isinstance(value, dict):\n",
    "                    flatten_json(\"match_id\", match[\"match_id\"], key, match.pop(key), \"None\")\n",
    "            df_dictionary = pd.DataFrame([match])\n",
    "            matches_output = pd.concat([matches_output, df_dictionary], ignore_index=True)           \n",
    "                    "
   ]
  },
  {
   "cell_type": "code",
   "execution_count": 36,
   "id": "d7c5e3c6",
   "metadata": {},
   "outputs": [
    {
     "name": "stdout",
     "output_type": "stream",
     "text": [
      "   match_id  match_date                 kick_off  home_score  away_score  \\\n",
      "0      9880  2018-04-14  2018-04-14 16:15:00.000           2           1   \n",
      "1      9912  2018-04-29  2018-04-29 20:45:00.000           2           4   \n",
      "2      9924  2018-05-06  2018-05-06 20:45:00.000           2           2   \n",
      "3      9855  2018-03-18  2018-03-18 16:15:00.000           2           0   \n",
      "4      9827  2018-03-01  2018-03-01 21:00:00.000           1           1   \n",
      "\n",
      "  match_status match_status_360  match_week  \n",
      "0    available        scheduled          32  \n",
      "1    available        scheduled          35  \n",
      "2    available        scheduled          36  \n",
      "3    available        scheduled          29  \n",
      "4    available        scheduled          26  \n"
     ]
    }
   ],
   "source": [
    "matches_output['kick_off'] = matches_output['match_date'] + \" \" + matches_output['kick_off']\n",
    "matches_output = matches_output.drop('last_updated', axis=1)\n",
    "matches_output = matches_output.drop('last_updated_360', axis=1)\n",
    "print(matches_output.head())\n"
   ]
  },
  {
   "cell_type": "code",
   "execution_count": 37,
   "id": "6a1f4248",
   "metadata": {},
   "outputs": [],
   "source": [
    "matches_file_name = \"C:\\\\Users\\\\krish.vanapalli\\\\Documents\\\\Work\\\\KickStat\\\\KBDataFiles\\\\matches.csv\"\n",
    "matches_output.to_csv(matches_file_name, sep=',', encoding='utf-8', index=False, header=False)"
   ]
  },
  {
   "cell_type": "code",
   "execution_count": 38,
   "id": "69812fda",
   "metadata": {},
   "outputs": [
    {
     "data": {
      "text/html": [
       "<div>\n",
       "<style scoped>\n",
       "    .dataframe tbody tr th:only-of-type {\n",
       "        vertical-align: middle;\n",
       "    }\n",
       "\n",
       "    .dataframe tbody tr th {\n",
       "        vertical-align: top;\n",
       "    }\n",
       "\n",
       "    .dataframe thead th {\n",
       "        text-align: right;\n",
       "    }\n",
       "</style>\n",
       "<table border=\"1\" class=\"dataframe\">\n",
       "  <thead>\n",
       "    <tr style=\"text-align: right;\">\n",
       "      <th></th>\n",
       "      <th>away_team_id</th>\n",
       "      <th>away_team_manager_id</th>\n",
       "    </tr>\n",
       "  </thead>\n",
       "  <tbody>\n",
       "    <tr>\n",
       "      <th>0</th>\n",
       "      <td>207</td>\n",
       "      <td>211</td>\n",
       "    </tr>\n",
       "    <tr>\n",
       "      <th>1</th>\n",
       "      <td>217</td>\n",
       "      <td>227</td>\n",
       "    </tr>\n",
       "    <tr>\n",
       "      <th>2</th>\n",
       "      <td>220</td>\n",
       "      <td>56</td>\n",
       "    </tr>\n",
       "    <tr>\n",
       "      <th>3</th>\n",
       "      <td>215</td>\n",
       "      <td>210</td>\n",
       "    </tr>\n",
       "    <tr>\n",
       "      <th>4</th>\n",
       "      <td>217</td>\n",
       "      <td>227</td>\n",
       "    </tr>\n",
       "  </tbody>\n",
       "</table>\n",
       "</div>"
      ],
      "text/plain": [
       "   away_team_id  away_team_manager_id\n",
       "0           207                   211\n",
       "1           217                   227\n",
       "2           220                    56\n",
       "3           215                   210\n",
       "4           217                   227"
      ]
     },
     "execution_count": 38,
     "metadata": {},
     "output_type": "execute_result"
    }
   ],
   "source": [
    "dataframes_supported_entities[\"away_team_managers\"].head()"
   ]
  },
  {
   "cell_type": "code",
   "execution_count": 39,
   "id": "3aa41e75",
   "metadata": {},
   "outputs": [
    {
     "data": {
      "text/plain": [
       "dict"
      ]
     },
     "execution_count": 39,
     "metadata": {},
     "output_type": "execute_result"
    }
   ],
   "source": [
    "type(dataframes_supported_entities)"
   ]
  },
  {
   "cell_type": "code",
   "execution_count": 40,
   "id": "445763a1",
   "metadata": {},
   "outputs": [],
   "source": [
    "for key, value_df in dataframes_supported_entities.items():\n",
    "    value_df = value_df.loc[value_df.astype(str).drop_duplicates().index]\n",
    "    #value_df = value_df.drop_duplicates(ignore_index=True)\n",
    "    output_file_name = f\"C:\\\\Users\\\\krish.vanapalli\\\\Documents\\\\Work\\\\KickStat\\\\KBDataFiles\\\\{key}.csv\"\n",
    "    value_df.to_csv(output_file_name, sep=',', encoding='utf-8', index=False, header=False)   \n",
    "    "
   ]
  },
  {
   "cell_type": "code",
   "execution_count": 41,
   "id": "a8574317",
   "metadata": {},
   "outputs": [
    {
     "data": {
      "text/html": [
       "<div>\n",
       "<style scoped>\n",
       "    .dataframe tbody tr th:only-of-type {\n",
       "        vertical-align: middle;\n",
       "    }\n",
       "\n",
       "    .dataframe tbody tr th {\n",
       "        vertical-align: top;\n",
       "    }\n",
       "\n",
       "    .dataframe thead th {\n",
       "        text-align: right;\n",
       "    }\n",
       "</style>\n",
       "<table border=\"1\" class=\"dataframe\">\n",
       "  <thead>\n",
       "    <tr style=\"text-align: right;\">\n",
       "      <th></th>\n",
       "      <th>0</th>\n",
       "      <th>1</th>\n",
       "      <th>2</th>\n",
       "      <th>3</th>\n",
       "    </tr>\n",
       "  </thead>\n",
       "  <tbody>\n",
       "    <tr>\n",
       "      <th>0</th>\n",
       "      <td>207</td>\n",
       "      <td>Valencia</td>\n",
       "      <td>male</td>\n",
       "      <td>NaN</td>\n",
       "    </tr>\n",
       "    <tr>\n",
       "      <th>1</th>\n",
       "      <td>217</td>\n",
       "      <td>Barcelona</td>\n",
       "      <td>male</td>\n",
       "      <td>NaN</td>\n",
       "    </tr>\n",
       "    <tr>\n",
       "      <th>2</th>\n",
       "      <td>220</td>\n",
       "      <td>Real Madrid</td>\n",
       "      <td>male</td>\n",
       "      <td>NaN</td>\n",
       "    </tr>\n",
       "    <tr>\n",
       "      <th>3</th>\n",
       "      <td>215</td>\n",
       "      <td>Athletic Club</td>\n",
       "      <td>male</td>\n",
       "      <td>NaN</td>\n",
       "    </tr>\n",
       "    <tr>\n",
       "      <th>4</th>\n",
       "      <td>208</td>\n",
       "      <td>Las Palmas</td>\n",
       "      <td>male</td>\n",
       "      <td>NaN</td>\n",
       "    </tr>\n",
       "  </tbody>\n",
       "</table>\n",
       "</div>"
      ],
      "text/plain": [
       "     0              1     2    3\n",
       "0  207       Valencia  male  NaN\n",
       "1  217      Barcelona  male  NaN\n",
       "2  220    Real Madrid  male  NaN\n",
       "3  215  Athletic Club  male  NaN\n",
       "4  208     Las Palmas  male  NaN"
      ]
     },
     "execution_count": 41,
     "metadata": {},
     "output_type": "execute_result"
    }
   ],
   "source": [
    "home_team_df = pd.read_csv(\"home_team.csv\", header=None)\n",
    "away_team_df = pd.read_csv(\"away_team.csv\", header=None)\n",
    "away_team_df.head()\n"
   ]
  },
  {
   "cell_type": "code",
   "execution_count": 42,
   "id": "4b873199",
   "metadata": {},
   "outputs": [
    {
     "name": "stderr",
     "output_type": "stream",
     "text": [
      "C:\\Users\\krish.vanapalli\\AppData\\Local\\Temp\\ipykernel_17472\\690709136.py:1: FutureWarning: The frame.append method is deprecated and will be removed from pandas in a future version. Use pandas.concat instead.\n",
      "  teams_df = home_team_df.append(away_team_df, ignore_index=True)\n"
     ]
    },
    {
     "data": {
      "text/html": [
       "<div>\n",
       "<style scoped>\n",
       "    .dataframe tbody tr th:only-of-type {\n",
       "        vertical-align: middle;\n",
       "    }\n",
       "\n",
       "    .dataframe tbody tr th {\n",
       "        vertical-align: top;\n",
       "    }\n",
       "\n",
       "    .dataframe thead th {\n",
       "        text-align: right;\n",
       "    }\n",
       "</style>\n",
       "<table border=\"1\" class=\"dataframe\">\n",
       "  <thead>\n",
       "    <tr style=\"text-align: right;\">\n",
       "      <th></th>\n",
       "      <th>0</th>\n",
       "      <th>1</th>\n",
       "      <th>2</th>\n",
       "      <th>3</th>\n",
       "    </tr>\n",
       "  </thead>\n",
       "  <tbody>\n",
       "    <tr>\n",
       "      <th>0</th>\n",
       "      <td>217</td>\n",
       "      <td>Barcelona</td>\n",
       "      <td>male</td>\n",
       "      <td>NaN</td>\n",
       "    </tr>\n",
       "    <tr>\n",
       "      <th>1</th>\n",
       "      <td>219</td>\n",
       "      <td>RC Deportivo La Coruña</td>\n",
       "      <td>male</td>\n",
       "      <td>NaN</td>\n",
       "    </tr>\n",
       "    <tr>\n",
       "      <th>2</th>\n",
       "      <td>208</td>\n",
       "      <td>Las Palmas</td>\n",
       "      <td>male</td>\n",
       "      <td>NaN</td>\n",
       "    </tr>\n",
       "    <tr>\n",
       "      <th>3</th>\n",
       "      <td>322</td>\n",
       "      <td>Eibar</td>\n",
       "      <td>male</td>\n",
       "      <td>NaN</td>\n",
       "    </tr>\n",
       "    <tr>\n",
       "      <th>4</th>\n",
       "      <td>220</td>\n",
       "      <td>Real Madrid</td>\n",
       "      <td>male</td>\n",
       "      <td>NaN</td>\n",
       "    </tr>\n",
       "  </tbody>\n",
       "</table>\n",
       "</div>"
      ],
      "text/plain": [
       "     0                       1     2    3\n",
       "0  217               Barcelona  male  NaN\n",
       "1  219  RC Deportivo La Coruña  male  NaN\n",
       "2  208              Las Palmas  male  NaN\n",
       "3  322                   Eibar  male  NaN\n",
       "4  220             Real Madrid  male  NaN"
      ]
     },
     "execution_count": 42,
     "metadata": {},
     "output_type": "execute_result"
    }
   ],
   "source": [
    "teams_df = home_team_df.append(away_team_df, ignore_index=True)\n",
    "teams_df.head()"
   ]
  },
  {
   "cell_type": "code",
   "execution_count": 43,
   "id": "450ff5d6",
   "metadata": {},
   "outputs": [
    {
     "data": {
      "text/html": [
       "<div>\n",
       "<style scoped>\n",
       "    .dataframe tbody tr th:only-of-type {\n",
       "        vertical-align: middle;\n",
       "    }\n",
       "\n",
       "    .dataframe tbody tr th {\n",
       "        vertical-align: top;\n",
       "    }\n",
       "\n",
       "    .dataframe thead th {\n",
       "        text-align: right;\n",
       "    }\n",
       "</style>\n",
       "<table border=\"1\" class=\"dataframe\">\n",
       "  <thead>\n",
       "    <tr style=\"text-align: right;\">\n",
       "      <th></th>\n",
       "      <th>0</th>\n",
       "    </tr>\n",
       "  </thead>\n",
       "  <tbody>\n",
       "    <tr>\n",
       "      <th>count</th>\n",
       "      <td>702.000000</td>\n",
       "    </tr>\n",
       "    <tr>\n",
       "      <th>mean</th>\n",
       "      <td>1196.705128</td>\n",
       "    </tr>\n",
       "    <tr>\n",
       "      <th>std</th>\n",
       "      <td>2298.428051</td>\n",
       "    </tr>\n",
       "    <tr>\n",
       "      <th>min</th>\n",
       "      <td>1.000000</td>\n",
       "    </tr>\n",
       "    <tr>\n",
       "      <th>25%</th>\n",
       "      <td>230.250000</td>\n",
       "    </tr>\n",
       "    <tr>\n",
       "      <th>50%</th>\n",
       "      <td>784.000000</td>\n",
       "    </tr>\n",
       "    <tr>\n",
       "      <th>75%</th>\n",
       "      <td>942.000000</td>\n",
       "    </tr>\n",
       "    <tr>\n",
       "      <th>max</th>\n",
       "      <td>17469.000000</td>\n",
       "    </tr>\n",
       "  </tbody>\n",
       "</table>\n",
       "</div>"
      ],
      "text/plain": [
       "                  0\n",
       "count    702.000000\n",
       "mean    1196.705128\n",
       "std     2298.428051\n",
       "min        1.000000\n",
       "25%      230.250000\n",
       "50%      784.000000\n",
       "75%      942.000000\n",
       "max    17469.000000"
      ]
     },
     "execution_count": 43,
     "metadata": {},
     "output_type": "execute_result"
    }
   ],
   "source": [
    "teams_df.describe()"
   ]
  },
  {
   "cell_type": "code",
   "execution_count": 49,
   "id": "93c36802",
   "metadata": {},
   "outputs": [
    {
     "data": {
      "text/html": [
       "<div>\n",
       "<style scoped>\n",
       "    .dataframe tbody tr th:only-of-type {\n",
       "        vertical-align: middle;\n",
       "    }\n",
       "\n",
       "    .dataframe tbody tr th {\n",
       "        vertical-align: top;\n",
       "    }\n",
       "\n",
       "    .dataframe thead th {\n",
       "        text-align: right;\n",
       "    }\n",
       "</style>\n",
       "<table border=\"1\" class=\"dataframe\">\n",
       "  <thead>\n",
       "    <tr style=\"text-align: right;\">\n",
       "      <th></th>\n",
       "      <th>0</th>\n",
       "      <th>1</th>\n",
       "      <th>2</th>\n",
       "    </tr>\n",
       "  </thead>\n",
       "  <tbody>\n",
       "    <tr>\n",
       "      <th>0</th>\n",
       "      <td>217</td>\n",
       "      <td>Barcelona</td>\n",
       "      <td>male</td>\n",
       "    </tr>\n",
       "    <tr>\n",
       "      <th>1</th>\n",
       "      <td>219</td>\n",
       "      <td>RC Deportivo La Coruña</td>\n",
       "      <td>male</td>\n",
       "    </tr>\n",
       "    <tr>\n",
       "      <th>2</th>\n",
       "      <td>208</td>\n",
       "      <td>Las Palmas</td>\n",
       "      <td>male</td>\n",
       "    </tr>\n",
       "    <tr>\n",
       "      <th>3</th>\n",
       "      <td>322</td>\n",
       "      <td>Eibar</td>\n",
       "      <td>male</td>\n",
       "    </tr>\n",
       "    <tr>\n",
       "      <th>4</th>\n",
       "      <td>220</td>\n",
       "      <td>Real Madrid</td>\n",
       "      <td>male</td>\n",
       "    </tr>\n",
       "  </tbody>\n",
       "</table>\n",
       "</div>"
      ],
      "text/plain": [
       "     0                       1     2\n",
       "0  217               Barcelona  male\n",
       "1  219  RC Deportivo La Coruña  male\n",
       "2  208              Las Palmas  male\n",
       "3  322                   Eibar  male\n",
       "4  220             Real Madrid  male"
      ]
     },
     "execution_count": 49,
     "metadata": {},
     "output_type": "execute_result"
    }
   ],
   "source": [
    "teams_df = teams_df.drop(teams_df.columns[3], axis=1)\n",
    "teams_df.head()\n"
   ]
  },
  {
   "cell_type": "code",
   "execution_count": 50,
   "id": "79bb2b8a",
   "metadata": {},
   "outputs": [
    {
     "data": {
      "text/html": [
       "<div>\n",
       "<style scoped>\n",
       "    .dataframe tbody tr th:only-of-type {\n",
       "        vertical-align: middle;\n",
       "    }\n",
       "\n",
       "    .dataframe tbody tr th {\n",
       "        vertical-align: top;\n",
       "    }\n",
       "\n",
       "    .dataframe thead th {\n",
       "        text-align: right;\n",
       "    }\n",
       "</style>\n",
       "<table border=\"1\" class=\"dataframe\">\n",
       "  <thead>\n",
       "    <tr style=\"text-align: right;\">\n",
       "      <th></th>\n",
       "      <th>0</th>\n",
       "    </tr>\n",
       "  </thead>\n",
       "  <tbody>\n",
       "    <tr>\n",
       "      <th>count</th>\n",
       "      <td>266.000000</td>\n",
       "    </tr>\n",
       "    <tr>\n",
       "      <th>mean</th>\n",
       "      <td>1382.921053</td>\n",
       "    </tr>\n",
       "    <tr>\n",
       "      <th>std</th>\n",
       "      <td>2837.024162</td>\n",
       "    </tr>\n",
       "    <tr>\n",
       "      <th>min</th>\n",
       "      <td>1.000000</td>\n",
       "    </tr>\n",
       "    <tr>\n",
       "      <th>25%</th>\n",
       "      <td>208.250000</td>\n",
       "    </tr>\n",
       "    <tr>\n",
       "      <th>50%</th>\n",
       "      <td>776.500000</td>\n",
       "    </tr>\n",
       "    <tr>\n",
       "      <th>75%</th>\n",
       "      <td>1020.500000</td>\n",
       "    </tr>\n",
       "    <tr>\n",
       "      <th>max</th>\n",
       "      <td>17469.000000</td>\n",
       "    </tr>\n",
       "  </tbody>\n",
       "</table>\n",
       "</div>"
      ],
      "text/plain": [
       "                  0\n",
       "count    266.000000\n",
       "mean    1382.921053\n",
       "std     2837.024162\n",
       "min        1.000000\n",
       "25%      208.250000\n",
       "50%      776.500000\n",
       "75%     1020.500000\n",
       "max    17469.000000"
      ]
     },
     "execution_count": 50,
     "metadata": {},
     "output_type": "execute_result"
    }
   ],
   "source": [
    "teams_df = teams_df.loc[teams_df.astype(str).drop_duplicates().index]\n",
    "teams_df.describe()"
   ]
  },
  {
   "cell_type": "code",
   "execution_count": 51,
   "id": "1eb2ac7f",
   "metadata": {},
   "outputs": [],
   "source": [
    "teams_file_name = \"C:\\\\Users\\\\krish.vanapalli\\\\Documents\\\\Work\\\\KickStat\\\\KBDataFiles\\\\teams.csv\"\n",
    "teams_df.to_csv(teams_file_name, sep=',', encoding='utf-8', index=False, header=False)"
   ]
  },
  {
   "cell_type": "code",
   "execution_count": 46,
   "id": "ec28e5d8",
   "metadata": {},
   "outputs": [
    {
     "name": "stderr",
     "output_type": "stream",
     "text": [
      "C:\\Users\\krish.vanapalli\\AppData\\Local\\Temp\\ipykernel_17472\\1856400169.py:3: FutureWarning: The frame.append method is deprecated and will be removed from pandas in a future version. Use pandas.concat instead.\n",
      "  teams_country_df = away_team_country_df.append(home_team_country_df, ignore_index=True)\n"
     ]
    }
   ],
   "source": [
    "away_team_country_df = pd.read_csv(\"away_team_country.csv\", header=None)\n",
    "home_team_country_df = pd.read_csv(\"home_team_country.csv\", header=None)\n",
    "teams_country_df = away_team_country_df.append(home_team_country_df, ignore_index=True)\n",
    "teams_country_df = teams_country_df.loc[teams_country_df.astype(str).drop_duplicates().index]\n",
    "teams_country_file_name = \"C:\\\\Users\\\\krish.vanapalli\\\\Documents\\\\Work\\\\KickStat\\\\KBDataFiles\\\\teams_country.csv\"\n",
    "teams_country_df.to_csv(teams_country_file_name, sep=',', encoding='utf-8', index=False, header=False)"
   ]
  },
  {
   "cell_type": "code",
   "execution_count": 47,
   "id": "6bddbb66",
   "metadata": {},
   "outputs": [
    {
     "name": "stderr",
     "output_type": "stream",
     "text": [
      "C:\\Users\\krish.vanapalli\\AppData\\Local\\Temp\\ipykernel_17472\\984898477.py:4: FutureWarning: The frame.append method is deprecated and will be removed from pandas in a future version. Use pandas.concat instead.\n",
      "  teams_managers_df = away_team_managers_df.append(home_team_managers_df, ignore_index=True)\n"
     ]
    }
   ],
   "source": [
    "away_team_managers_df = pd.read_csv(\"away_team_managers.csv\", header=None)\n",
    "home_team_managers_df = pd.read_csv(\"home_team_managers.csv\", header=None)\n",
    "\n",
    "teams_managers_df = away_team_managers_df.append(home_team_managers_df, ignore_index=True)\n",
    "teams_managers_df = teams_managers_df.loc[teams_managers_df.astype(str).drop_duplicates().index]\n",
    "teams_managers_file_name = \"C:\\\\Users\\\\krish.vanapalli\\\\Documents\\\\Work\\\\KickStat\\\\KBDataFiles\\\\teams_managers.csv\"\n",
    "teams_managers_df.to_csv(teams_managers_file_name, sep=',', encoding='utf-8', index=False, header=False)"
   ]
  }
 ],
 "metadata": {
  "kernelspec": {
   "display_name": "Python 3 (ipykernel)",
   "language": "python",
   "name": "python3"
  },
  "language_info": {
   "codemirror_mode": {
    "name": "ipython",
    "version": 3
   },
   "file_extension": ".py",
   "mimetype": "text/x-python",
   "name": "python",
   "nbconvert_exporter": "python",
   "pygments_lexer": "ipython3",
   "version": "3.9.13"
  }
 },
 "nbformat": 4,
 "nbformat_minor": 5
}
